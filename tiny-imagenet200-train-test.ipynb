{
 "cells": [
  {
   "cell_type": "code",
   "execution_count": 4,
   "metadata": {},
   "outputs": [],
   "source": [
    "import torch\n",
    "# 왜 .py랑 jupyternotebook에서 다르게 작동하지?\n",
    "from utils.imagenet_dataset import TinyImagenet200"
   ]
  },
  {
   "cell_type": "code",
   "execution_count": null,
   "metadata": {},
   "outputs": [],
   "source": [
    "data_root = './data/tiny-imagenet-200'\n",
    "dataset = TinyImagenet200(\n",
    "    \n",
    ")"
   ]
  }
 ],
 "metadata": {
  "interpreter": {
   "hash": "db5d33d6c7f361d735dca5d942aa84730f8de921039a46a01a08b22c78b7c9f9"
  },
  "kernelspec": {
   "display_name": "Python 3.9.7 ('pytorch')",
   "language": "python",
   "name": "python3"
  },
  "language_info": {
   "codemirror_mode": {
    "name": "ipython",
    "version": 3
   },
   "file_extension": ".py",
   "mimetype": "text/x-python",
   "name": "python",
   "nbconvert_exporter": "python",
   "pygments_lexer": "ipython3",
   "version": "3.9.7"
  },
  "orig_nbformat": 4
 },
 "nbformat": 4,
 "nbformat_minor": 2
}
